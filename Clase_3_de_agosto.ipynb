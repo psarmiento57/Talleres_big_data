{
  "nbformat": 4,
  "nbformat_minor": 0,
  "metadata": {
    "colab": {
      "provenance": []
    },
    "kernelspec": {
      "name": "python3",
      "display_name": "Python 3"
    },
    "language_info": {
      "name": "python"
    }
  },
  "cells": [
    {
      "cell_type": "code",
      "execution_count": 3,
      "metadata": {
        "id": "gUi9vpa_9oS4"
      },
      "outputs": [],
      "source": [
        "def suma_de_dos_enteros_divididos_por_un_tercero (num_1, num_2, num_3):\n",
        "  if type (num_1)==int and type (num_2)==int and type (num_3)==int:\n",
        "    if num_3==0:\n",
        "     print(\"No se puede hacer la división\")\n",
        "    else:\n",
        "      print( (num_1+num_2)/num_3)\n",
        "  else:\n",
        "    print(\"Si alguno no es entero, no se puede hacer la operación\")\n",
        "\n",
        "\n",
        "\n",
        "\n",
        "\n",
        "\n"
      ]
    },
    {
      "cell_type": "code",
      "source": [
        "suma_de_dos_enteros_divididos_por_un_tercero(\"p\",6,0)"
      ],
      "metadata": {
        "colab": {
          "base_uri": "https://localhost:8080/"
        },
        "id": "zjVYq5h9Ggcn",
        "outputId": "ad901d37-13ed-4599-8a49-0556f1ff6757"
      },
      "execution_count": 6,
      "outputs": [
        {
          "output_type": "stream",
          "name": "stdout",
          "text": [
            "Si alguno no es entero, no se puede hacer la operación\n"
          ]
        }
      ]
    },
    {
      "cell_type": "code",
      "source": [],
      "metadata": {
        "id": "_kdKZcnpHhgo"
      },
      "execution_count": null,
      "outputs": []
    }
  ]
}