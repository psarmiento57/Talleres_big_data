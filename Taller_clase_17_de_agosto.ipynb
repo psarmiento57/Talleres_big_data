{
  "nbformat": 4,
  "nbformat_minor": 0,
  "metadata": {
    "colab": {
      "provenance": [],
      "authorship_tag": "ABX9TyMYaPVH9tBjHgZhTuh2YK+V",
      "include_colab_link": true
    },
    "kernelspec": {
      "name": "python3",
      "display_name": "Python 3"
    },
    "language_info": {
      "name": "python"
    }
  },
  "cells": [
    {
      "cell_type": "markdown",
      "metadata": {
        "id": "view-in-github",
        "colab_type": "text"
      },
      "source": [
        "<a href=\"https://colab.research.google.com/github/psarmiento57/Talleres_big_data/blob/main/Taller_clase_17_de_agosto.ipynb\" target=\"_parent\"><img src=\"https://colab.research.google.com/assets/colab-badge.svg\" alt=\"Open In Colab\"/></a>"
      ]
    },
    {
      "cell_type": "code",
      "source": [
        "#Define dos variables, nombre y edad, e imprime un mensaje de saludo que las utilice.\n",
        "\n",
        "nombre = \"Paula\"\n",
        "edad = \"24\"\n",
        "mensaje_de_saludo= f\"Hola mi {nombre} es y tengo {edad} años.\"\n",
        "print(mensaje_de_saludo)\n"
      ],
      "metadata": {
        "colab": {
          "base_uri": "https://localhost:8080/"
        },
        "id": "Mc_EJ3e3a6e9",
        "outputId": "e2769e33-8958-400b-80f9-62e88ae65f6c"
      },
      "execution_count": null,
      "outputs": [
        {
          "output_type": "stream",
          "name": "stdout",
          "text": [
            "Hola mi Paula es y tengo 24 años.\n"
          ]
        }
      ]
    },
    {
      "cell_type": "code",
      "source": [
        "#Calcula y muestra el área de un círculo. Pide al usuario que ingrese el radio.\n",
        "\n",
        "#Por favor ingrese el radio del circulo\n",
        "radio = float(input(\"Por favor ingrese el radio del círculo: \"))\n",
        "\n",
        "area = 3.14159 * radio ** 2\n",
        "print(f\"El área del círculo con radio {radio} es {area:.2f}\")\n"
      ],
      "metadata": {
        "colab": {
          "base_uri": "https://localhost:8080/"
        },
        "id": "Vu0rovXncB7m",
        "outputId": "4ea82540-46f6-4700-de9b-ad7ecb1e40ae"
      },
      "execution_count": null,
      "outputs": [
        {
          "output_type": "stream",
          "name": "stdout",
          "text": [
            "Por favor ingrese el radio del círculo: 15\n",
            "El área del círculo con radio 15.0 es 706.86\n"
          ]
        }
      ]
    },
    {
      "cell_type": "code",
      "source": [
        "#Escribe una función calcular_promedio que tome una lista de números como argumento y devuelva su promedio\n",
        "\n",
        "def calcular_promedio(lista_numeros_pares):\n",
        "    if not lista_numeros_pares:\n",
        "        return None  # Devolver None si la lista está vacía\n",
        "\n",
        "    suma_total = sum(lista_numeros_pares)\n",
        "    promedio = suma_total / len(lista_numeros_pares)\n",
        "    return promedio\n",
        "\n",
        "# Ejemplo de uso\n",
        "numeros = [2, 4, 6, 8, 10, 12, 14, 16, 18, 20]\n",
        "promedio_resultado = calcular_promedio(numeros)\n",
        "\n",
        "if promedio_resultado is not None:\n",
        "    print(f\"El promedio de la lista es: {promedio_resultado:.2f}\")\n",
        "else:\n",
        "    print(\"La lista está vacía.\")\n"
      ],
      "metadata": {
        "colab": {
          "base_uri": "https://localhost:8080/"
        },
        "id": "uj_9FYQ1evo_",
        "outputId": "f1f0553b-ac2d-44f1-c611-5657a13eeacf"
      },
      "execution_count": null,
      "outputs": [
        {
          "output_type": "stream",
          "name": "stdout",
          "text": [
            "El promedio de la lista es: 11.00\n"
          ]
        }
      ]
    },
    {
      "cell_type": "code",
      "source": [
        "# Crea una lista de números y utiliza un bucle for para mostrar los números mayores que 10.\n",
        "lista_de_numeros = [0, 3, 6, 9, 12, 15, 18, 21]\n",
        "\n",
        "# Bucle for para mostrar los números mayores que 10\n",
        "print(\"Números mayores que 10:\")\n",
        "for numero in numeros:\n",
        "    if numero > 10:\n",
        "        print(numero)"
      ],
      "metadata": {
        "colab": {
          "base_uri": "https://localhost:8080/"
        },
        "id": "-cVtgGmZfoWf",
        "outputId": "c6585f1e-3ae1-407e-a9c6-a886c746292a"
      },
      "execution_count": null,
      "outputs": [
        {
          "output_type": "stream",
          "name": "stdout",
          "text": [
            "Números mayores que 10:\n",
            "12\n",
            "14\n",
            "16\n",
            "18\n",
            "20\n"
          ]
        }
      ]
    },
    {
      "cell_type": "code",
      "source": [
        "#Define un diccionario que almacene los precios de tres productos diferentes. Pide al usuario que ingrese el nombre de un producto y muestra su precio.\n",
        "\n",
        "precios_productos = {\n",
        "    \"Arroz\": 23.03,\n",
        "    \"Harina\": 20.00,\n",
        "    \"Pan\": 10.15\n",
        "}\n",
        "\n",
        "# Por favor, ingrese el nombre de un producto\n",
        "producto_ingresado = input(\"Por favor, ingresa el nombre de un producto: \")\n",
        "precio_producto = precios_productos.get(producto_ingresado)\n",
        "if precio_producto is not None:\n",
        "    print(f\"El precio de {producto_ingresado} es: ${precio_producto:.2f}\")\n",
        "else:\n",
        "    print(\"El producto ingresado no está en la lista.\")"
      ],
      "metadata": {
        "colab": {
          "base_uri": "https://localhost:8080/"
        },
        "id": "wWk5-mUQghbW",
        "outputId": "98179e9d-ee9c-400e-9384-c073bec374a4"
      },
      "execution_count": null,
      "outputs": [
        {
          "output_type": "stream",
          "name": "stdout",
          "text": [
            "Por favor, ingresa el nombre de un producto: Arroz\n",
            "El precio de Arroz es: $23.03\n"
          ]
        }
      ]
    },
    {
      "cell_type": "code",
      "source": [
        "#Escribe una función es_primo que determine si un número dado es primo o no.\n",
        "\n",
        "def es_primo(numero):\n",
        "    if numero <= 1:\n",
        "        return False  # Los números menores o iguales a 1 no son primos\n",
        "\n",
        "    if numero <= 3:\n",
        "        return True  # 2 y 3 son primos\n",
        "\n",
        "    if numero % 2 == 0 or numero % 3 == 0:\n",
        "        return False  # Los múltiplos de 2 y 3 no son primos\n",
        "\n",
        "    i = 5\n",
        "    while i * i <= numero:\n",
        "        if numero % i == 0 or numero % (i + 2) == 0:\n",
        "            return False\n",
        "        i += 6\n",
        "\n",
        "    return True\n",
        "\n",
        "# Ejemplo practico\n",
        "numero = int(input(\"Ingresa un número: \"))\n",
        "if es_primo(numero):\n",
        "    print(f\"{numero} es un número primo.\")\n",
        "else:\n",
        "    print(f\"{numero} no es un número primo.\")"
      ],
      "metadata": {
        "colab": {
          "base_uri": "https://localhost:8080/"
        },
        "id": "5eoxC8GAhj78",
        "outputId": "d9f4500f-da05-4bd8-a3d5-f65c9119c09f"
      },
      "execution_count": null,
      "outputs": [
        {
          "output_type": "stream",
          "name": "stdout",
          "text": [
            "Ingresa un número: 25\n",
            "25 no es un número primo.\n"
          ]
        }
      ]
    },
    {
      "cell_type": "code",
      "source": [
        "#Crea una lista de nombres y utiliza un bucle while para imprimir cada nombre hasta que encuentres el nombre \"Alex\".\n",
        "\n",
        "nombres = [\"Sofia\", \"Diego\", \"Paula\", \"Jesus\", \"Felipe\", \"Alejandra\", \"Alex\"]\n",
        "\n",
        "# Bucle while para imprimir nombres hasta que se encuentre \"Alex\"\n",
        "indice = 0\n",
        "while indice < len(nombres) and nombres[indice] != \"Alex\":\n",
        "    print(nombres[indice])\n",
        "    indice += 1"
      ],
      "metadata": {
        "colab": {
          "base_uri": "https://localhost:8080/"
        },
        "id": "WXz2kWtbi1Xi",
        "outputId": "926c4d1d-fc9a-422b-b0a8-3f06b499d2a6"
      },
      "execution_count": null,
      "outputs": [
        {
          "output_type": "stream",
          "name": "stdout",
          "text": [
            "Sofia\n",
            "Diego\n",
            "Paula\n",
            "Jesus\n",
            "Felipe\n",
            "Alejandra\n"
          ]
        }
      ]
    },
    {
      "cell_type": "code",
      "source": [
        "#Escribe una función invertir_cadena que tome una cadena como argumento y devuelva la cadena invertida.\n",
        "\n",
        "def invertir_cadena(cadena):\n",
        "    cadena_invertida = cadena[::-1]\n",
        "    return cadena_invertida\n",
        "\n",
        "# Ejemplo practico\n",
        "cadena_original = input(\"Ingresa una cadena: \")\n",
        "cadena_invertida = invertir_cadena(cadena_original)\n",
        "print(\"Cadena original:\", cadena_original)\n",
        "print(\"Cadena invertida:\", cadena_invertida)"
      ],
      "metadata": {
        "colab": {
          "base_uri": "https://localhost:8080/"
        },
        "id": "HqtgkSc5kMGJ",
        "outputId": "032316c5-6779-4afd-b192-dc5f8b1760c7"
      },
      "execution_count": null,
      "outputs": [
        {
          "output_type": "stream",
          "name": "stdout",
          "text": [
            "Ingresa una cadena: 26980147\n",
            "Cadena original: 26980147\n",
            "Cadena invertida: 74108962\n"
          ]
        }
      ]
    },
    {
      "cell_type": "code",
      "source": [
        "#Crea una lista de números pares del 2 al 20 utilizando una comprensión de lista.\n",
        "\n",
        "pares = [numero for numero in range(1, 100) if numero % 2 == 0]\n",
        "print(pares)"
      ],
      "metadata": {
        "colab": {
          "base_uri": "https://localhost:8080/"
        },
        "id": "KNmZx7Wik8wu",
        "outputId": "f8499c88-d47c-4293-e406-8256e82eb9b3"
      },
      "execution_count": null,
      "outputs": [
        {
          "output_type": "stream",
          "name": "stdout",
          "text": [
            "[2, 4, 6, 8, 10, 12, 14, 16, 18, 20, 22, 24, 26, 28, 30, 32, 34, 36, 38, 40, 42, 44, 46, 48, 50, 52, 54, 56, 58, 60, 62, 64, 66, 68, 70, 72, 74, 76, 78, 80, 82, 84, 86, 88, 90, 92, 94, 96, 98]\n"
          ]
        }
      ]
    },
    {
      "cell_type": "code",
      "source": [
        "#Escribe un programa que genere los primeros n términos de la serie de Fibonacci a discresión del usuario.\n",
        "\n",
        "def generar_fibonacci(n):\n",
        "    fibonacci = [0, 1]  # Inicializar la lista con los primeros dos términos\n",
        "\n",
        "    while len(fibonacci) < n:\n",
        "        nuevo_termino = fibonacci[-1] + fibonacci[-2]  # Sumar los dos últimos términos\n",
        "        fibonacci.append(nuevo_termino)\n",
        "\n",
        "    return fibonacci\n",
        "\n",
        "# Pedir al usuario la cantidad de términos que desea generar\n",
        "n = int(input(\"Ingrese la cantidad de términos de la serie de Fibonacci que desea generar: \"))\n",
        "\n",
        "# Generar la serie de Fibonacci\n",
        "serie_fibonacci = generar_fibonacci(n)\n",
        "\n",
        "# Imprimir la serie generada\n",
        "print(\"Serie de Fibonacci:\")\n",
        "for termino in serie_fibonacci:\n",
        "    print(termino, end=\" \")\n",
        "\n",
        "\n"
      ],
      "metadata": {
        "colab": {
          "base_uri": "https://localhost:8080/"
        },
        "id": "mM1gEmkBlfkU",
        "outputId": "a3c9112c-862c-43a7-d864-a7fa64181212"
      },
      "execution_count": null,
      "outputs": [
        {
          "output_type": "stream",
          "name": "stdout",
          "text": [
            "Ingrese la cantidad de términos de la serie de Fibonacci que desea generar: 30\n",
            "Serie de Fibonacci:\n",
            "0 1 1 2 3 5 8 13 21 34 55 89 144 233 377 610 987 1597 2584 4181 6765 10946 17711 28657 46368 75025 121393 196418 317811 514229 "
          ]
        }
      ]
    },
    {
      "cell_type": "code",
      "source": [
        "#Escribe una función calcular_interes_simple que calcule el interés simple dado el principal, la tasa de interés y el tiempo en años.\n",
        "\n",
        "def calcular_interes_simple(principal, tasa_interes, tiempo_años):\n",
        "    interes = (principal * tasa_interes * tiempo_años) / 100\n",
        "    return interes\n",
        "\n",
        "# Ejemplo de uso\n",
        "principal = float(input(\"Ingresa el principal: \"))\n",
        "tasa_interes = float(input(\"Ingresa la tasa de interés (%): \"))\n",
        "tiempo_anios = float(input(\"Ingresa el tiempo en años: \"))\n",
        "\n",
        "interes_calculado = calcular_interes_simple(principal, tasa_interes, tiempo_anios)\n",
        "print(f\"El interés simple calculado es: {interes_calculado:.2f}\")"
      ],
      "metadata": {
        "colab": {
          "base_uri": "https://localhost:8080/"
        },
        "id": "K6I_QJzcmdJQ",
        "outputId": "3852ed28-2f9d-44e0-dcdc-a75ca938860c"
      },
      "execution_count": null,
      "outputs": [
        {
          "output_type": "stream",
          "name": "stdout",
          "text": [
            "Ingresa el principal: 50\n",
            "Ingresa la tasa de interés (%): 25\n",
            "Ingresa el tiempo en años: 10\n",
            "El interés simple calculado es: 125.00\n"
          ]
        }
      ]
    },
    {
      "cell_type": "code",
      "source": [
        "#Crea una lista de precios de acciones. Utiliza una función para calcular el promedio de esos precios.\n",
        "\n",
        "def calcular_promedio_precios(precios):\n",
        "    if not precios:\n",
        "        return None  # Devolver None si la lista está vacía\n",
        "\n",
        "    suma_total = sum(precios)\n",
        "    promedio = suma_total / len(precios)\n",
        "    return promedio\n",
        "\n",
        "# Ejemplo pratico\n",
        "precios_acciones = [30, 25, 150, 85, 73, 49, 12]\n",
        "\n",
        "promedio_precios = calcular_promedio_precios(precios_acciones)\n",
        "\n",
        "if promedio_precios is not None:\n",
        "    print(f\"El promedio de precios de acciones es: {promedio_precios:.2f}\")\n",
        "else:\n",
        "    print(\"La lista de precios está vacía.\")"
      ],
      "metadata": {
        "colab": {
          "base_uri": "https://localhost:8080/"
        },
        "id": "ZmWLrpyjnJou",
        "outputId": "dcb50e96-b240-479e-8aed-24d715539faf"
      },
      "execution_count": null,
      "outputs": [
        {
          "output_type": "stream",
          "name": "stdout",
          "text": [
            "El promedio de precios de acciones es: 60.57\n"
          ]
        }
      ]
    },
    {
      "cell_type": "code",
      "source": [
        "#Escribe una función convertir_dolares_a_euros que tome una cantidad en dólares y la convierta a euros (usando una tasa de cambio fija).\n",
        "\n",
        "def convertir_dolares_a_euros(cantidad_dolares, tasa_cambio):\n",
        "    cantidad_euros = cantidad_dolares * tasa_cambio\n",
        "    return cantidad_euros\n",
        "# Tasa de cambio actual (sujeta a cambio en la realidad)\n",
        "tasa_cambio_actual = 0.85\n",
        "\n",
        "cantidad_dolares = float(input(\"Ingrese la cantidad en dólares: \"))\n",
        "cantidad_euros = convertir_dolares_a_euros(cantidad_dolares, tasa_cambio_actual)\n",
        "\n",
        "print(f\"{cantidad_dolares} dólares son aproximadamente {cantidad_euros} euros.\")"
      ],
      "metadata": {
        "colab": {
          "base_uri": "https://localhost:8080/"
        },
        "id": "zXf2gOosoEiF",
        "outputId": "0f3c7ae4-5dbe-4ec7-835d-5bdc652b51e3"
      },
      "execution_count": null,
      "outputs": [
        {
          "output_type": "stream",
          "name": "stdout",
          "text": [
            "Ingrese la cantidad en dólares: 10\n",
            "10.0 dólares son aproximadamente 8.5 euros.\n"
          ]
        }
      ]
    },
    {
      "cell_type": "code",
      "source": [
        "#Crea una función calcular_factorial que calcule el factorial de un número dado.\n",
        "\n",
        "def calcular_factorial(numero):\n",
        "    if numero < 0:\n",
        "        return \"No se puede calcular el factorial de números negativos.\"\n",
        "    elif numero == 0 or numero == 1:\n",
        "        return 1\n",
        "    else:\n",
        "        return numero * calcular_factorial(numero - 1)\n",
        "\n",
        "numero = int(input(\"Ingrese un número para calcular su factorial: \"))\n",
        "resultado = calcular_factorial(numero)\n",
        "\n",
        "print(f\"El factorial de {numero} es {resultado}.\")\n"
      ],
      "metadata": {
        "colab": {
          "base_uri": "https://localhost:8080/"
        },
        "id": "gdSfKzWpE--O",
        "outputId": "1f4be5d5-acfa-4116-d665-a02bf47e9e4e"
      },
      "execution_count": null,
      "outputs": [
        {
          "output_type": "stream",
          "name": "stdout",
          "text": [
            "Ingrese un número para calcular su factorial: 9\n",
            "El factorial de 9 es 362880.\n"
          ]
        }
      ]
    },
    {
      "cell_type": "code",
      "source": [
        "#Define un diccionario que contenga los nombres y saldos de cuentas bancarias. Escribe una función que encuentre la cuenta con el saldo más alto.\n",
        "\n",
        "def encontrar_cuenta_mas_alta(cuentas):\n",
        "    cuenta_mas_alta = None\n",
        "    saldo_mas_alto = float('-inf')\n",
        "\n",
        "    for cuenta, saldo in cuentas.items():\n",
        "        if saldo > saldo_mas_alto:\n",
        "            saldo_mas_alto = saldo\n",
        "            cuenta_mas_alta = cuenta\n",
        "\n",
        "    return cuenta_mas_alta, saldo_mas_alto\n",
        "\n",
        "# Definir el diccionario de cuentas bancarias\n",
        "cuentas_bancarias = {\n",
        "    'BBVA': 10000,\n",
        "    'DAVIVIENDA': 4200,\n",
        "    'BANCOLOMBIA': 9000,\n",
        "    'BANCO DE BOGOTA': 20400,\n",
        "    'AV VILLAS': 53800\n",
        "}\n",
        "\n",
        "# Encontrar la cuenta con el saldo más alto\n",
        "cuenta_mas_alta, saldo_mas_alto = encontrar_cuenta_mas_alta(cuentas_bancarias)\n",
        "\n",
        "print(f\"La cuenta con el saldo más alto es la de {cuenta_mas_alta}, con un saldo de {saldo_mas_alto}.\")\n",
        "\n"
      ],
      "metadata": {
        "colab": {
          "base_uri": "https://localhost:8080/"
        },
        "id": "0OdnC5-cGW_e",
        "outputId": "95d6711e-b07d-40f9-8eac-e39bd6fa11f0"
      },
      "execution_count": null,
      "outputs": [
        {
          "output_type": "stream",
          "name": "stdout",
          "text": [
            "La cuenta con el saldo más alto es la de AV VILLAS, con un saldo de 53800.\n"
          ]
        }
      ]
    },
    {
      "cell_type": "code",
      "source": [
        "#Escribe un programa que calcule e imprima los primeros n números triangulares a discresión del usuario.\n",
        "\n",
        "def calcular_numero_triangular(n):\n",
        "    return n * (n + 1) // 2\n",
        "\n",
        "def main():\n",
        "    try:\n",
        "        n = int(input(\"Ingrese el valor de n para calcular los primeros números triangulares: \"))\n",
        "        if n < 1:\n",
        "            print(\"Por favor, ingrese un valor de n mayor o igual a 1.\")\n",
        "            return\n",
        "\n",
        "        print(f\"Los primeros {n} números triangulares son:\")\n",
        "        for i in range(1, n + 1):\n",
        "            numero_triangular = calcular_numero_triangular(i)\n",
        "            print(f\"Número triangular {i}: {numero_triangular}\")\n",
        "    except ValueError:\n",
        "        print(\"Por favor, ingrese un valor numérico válido para n.\")\n",
        "\n",
        "if __name__ == \"__main__\":\n",
        "    main()\n"
      ],
      "metadata": {
        "colab": {
          "base_uri": "https://localhost:8080/"
        },
        "id": "P03jQDoyHeeG",
        "outputId": "114f2b1c-f016-42fb-dcb1-9100643c3562"
      },
      "execution_count": null,
      "outputs": [
        {
          "output_type": "stream",
          "name": "stdout",
          "text": [
            "Ingrese el valor de n para calcular los primeros números triangulares: 15\n",
            "Los primeros 15 números triangulares son:\n",
            "Número triangular 1: 1\n",
            "Número triangular 2: 3\n",
            "Número triangular 3: 6\n",
            "Número triangular 4: 10\n",
            "Número triangular 5: 15\n",
            "Número triangular 6: 21\n",
            "Número triangular 7: 28\n",
            "Número triangular 8: 36\n",
            "Número triangular 9: 45\n",
            "Número triangular 10: 55\n",
            "Número triangular 11: 66\n",
            "Número triangular 12: 78\n",
            "Número triangular 13: 91\n",
            "Número triangular 14: 105\n",
            "Número triangular 15: 120\n"
          ]
        }
      ]
    },
    {
      "cell_type": "code",
      "source": [
        "#Crea una función calcular_descuento que calcule el precio final después de aplicar un descuento a un artículo.\n",
        "\n",
        "def calcular_descuento(precio_original, porcentaje_descuento):\n",
        "    if porcentaje_descuento < 0 or porcentaje_descuento > 100:\n",
        "        raise ValueError(\"El porcentaje de descuento debe estar entre 0 y 100\")\n",
        "\n",
        "    descuento = precio_original * (porcentaje_descuento / 100)\n",
        "    precio_final = precio_original - descuento\n",
        "    return precio_final\n",
        "\n",
        "precio_original = float(input(\"Ingrese el precio original del artículo: \"))\n",
        "porcentaje_descuento = float(input(\"Ingrese el porcentaje de descuento: \"))\n",
        "\n",
        "precio_final = calcular_descuento(precio_original, porcentaje_descuento)\n",
        "print(f\"El precio final después del descuento es: {precio_final:.2f}\")\n"
      ],
      "metadata": {
        "colab": {
          "base_uri": "https://localhost:8080/"
        },
        "id": "9TOrgfvRI6rn",
        "outputId": "ae0536c6-ab30-44ac-8f5d-144c2f205641"
      },
      "execution_count": null,
      "outputs": [
        {
          "output_type": "stream",
          "name": "stdout",
          "text": [
            "Ingrese el precio original del artículo: 5000\n",
            "Ingrese el porcentaje de descuento: 25\n",
            "El precio final después del descuento es: 3750.00\n"
          ]
        }
      ]
    },
    {
      "cell_type": "code",
      "source": [
        "#Escribe una función que tome una lista de números y devuelva una nueva lista con solo los números pares.\n",
        "\n",
        "def numeros_pares(lista):\n",
        "    numeros_pares = []\n",
        "    for numero in lista:\n",
        "        if numero % 2 == 0:\n",
        "            numeros_pares.append(numero)\n",
        "    return numeros_pares\n",
        "\n",
        "# Ejemplo practico\n",
        "lista_original = [1, 2, 3, 4, 5, 6, 7, 8, 9, 10, 11, 12, 13, 14, 15, 16, 17, 18, 19, 20]\n",
        "lista_pares = numeros_pares(lista_original)\n",
        "print(lista_pares)"
      ],
      "metadata": {
        "id": "Ns9b3J2DJbzX",
        "colab": {
          "base_uri": "https://localhost:8080/"
        },
        "outputId": "da7e5afe-8cd3-4618-a55e-715150da7b75"
      },
      "execution_count": null,
      "outputs": [
        {
          "output_type": "stream",
          "name": "stdout",
          "text": [
            "[2, 4, 6, 8, 10, 12, 14, 16, 18, 20]\n"
          ]
        }
      ]
    },
    {
      "cell_type": "code",
      "source": [
        "#Crea una lista de números y utiliza una función para encontrar el número más grande y el más pequeño.\n",
        "\n",
        "def encontrar_numero_mas_grande(lista):\n",
        "    if not lista:\n",
        "        return 0 # Devolver 0 si la lista está vacía\n",
        "    maximo = lista[0]\n",
        "    for numero in lista:\n",
        "        if numero > maximo:\n",
        "            maximo = numero\n",
        "    return maximo\n",
        "\n",
        "def encontrar_numero_mas_pequeno(lista):\n",
        "    if not lista:\n",
        "        return 0  # Devolver 0 si la lista está vacía\n",
        "    minimo = lista[0]\n",
        "    for numero in lista:\n",
        "        if numero < minimo:\n",
        "            minimo = numero\n",
        "    return minimo\n",
        "\n",
        "# Lista de números\n",
        "lista_numeros = [27, 47, 119, 85 , 6, 12, 9, 91, 3, 0]\n",
        "\n",
        "# Encontrar el número más grande y el más pequeño\n",
        "maximo = encontrar_numero_mas_grande(lista_numeros)\n",
        "minimo = encontrar_numero_mas_pequeno(lista_numeros)\n",
        "\n",
        "print(\"Número más grande:\", maximo)\n",
        "print(\"Número más pequeño:\", minimo)"
      ],
      "metadata": {
        "colab": {
          "base_uri": "https://localhost:8080/"
        },
        "id": "04OJTVhKLr4w",
        "outputId": "b9deb6ae-9f75-44a3-926e-d7559449b800"
      },
      "execution_count": null,
      "outputs": [
        {
          "output_type": "stream",
          "name": "stdout",
          "text": [
            "Número más grande: 119\n",
            "Número más pequeño: 0\n"
          ]
        }
      ]
    },
    {
      "cell_type": "code",
      "source": [
        "#Escribe un programa que genere e imprima los primeros n términos de la secuencia de números de Pell a discresión del usuario.\n",
        "\n",
        "def secuencia_pell(n):\n",
        "    if n <= 0:\n",
        "        return []\n",
        "    elif n == 1:\n",
        "        return [0]\n",
        "    elif n == 2:\n",
        "        return [0, 1]\n",
        "\n",
        "    pell_sequence = [0, 1]\n",
        "    for i in range(2, n):\n",
        "        next_term = 2 * pell_sequence[i - 1] + pell_sequence[i - 2]\n",
        "        pell_sequence.append(next_term)\n",
        "\n",
        "    return pell_sequence\n",
        "\n",
        "# Solicitar al usuario el valor de n\n",
        "n = int(input(\"Ingrese la cantidad de términos de la secuencia de Pell a generar: \"))\n",
        "\n",
        "# Generar la secuencia de Pell\n",
        "pell_sequence = secuencia_pell(n)\n",
        "\n",
        "# Imprimir la secuencia de Pell generada\n",
        "print(\"Secuencia de Pell con\", n, \"términos:\")\n",
        "print(pell_sequence)\n"
      ],
      "metadata": {
        "colab": {
          "base_uri": "https://localhost:8080/"
        },
        "id": "NvcfgW3DMz8Q",
        "outputId": "4cfc82f3-0b32-433e-dbb2-d478aba1d761"
      },
      "execution_count": null,
      "outputs": [
        {
          "output_type": "stream",
          "name": "stdout",
          "text": [
            "Ingrese la cantidad de términos de la secuencia de Pell a generar: 6\n",
            "Secuencia de Pell con 6 términos:\n",
            "[0, 1, 2, 5, 12, 29]\n"
          ]
        }
      ]
    },
    {
      "cell_type": "code",
      "source": [
        "#Crea una función calcular_amortizacion que calcule la amortización de un préstamo a lo largo del tiempo.\n",
        "\n",
        "def calcular_amortizacion(monto_prestamo, tasa_interes_anual, plazo_meses):\n",
        "    tasa_interes_mensual = tasa_interes_anual / 12 / 100\n",
        "    cuota_fija = monto_prestamo * (tasa_interes_mensual * (1 + tasa_interes_mensual) ** plazo_meses) / ((1 + tasa_interes_mensual) ** plazo_meses - 1)\n",
        "\n",
        "    amortizacion = []\n",
        "    saldo_pendiente = monto_prestamo\n",
        "\n",
        "    for mes in range(1, plazo_meses + 1):\n",
        "        interes = saldo_pendiente * tasa_interes_mensual\n",
        "        capital = cuota_fija - interes\n",
        "        saldo_pendiente -= capital\n",
        "        amortizacion.append((mes, cuota_fija, capital, interes, saldo_pendiente))\n",
        "\n",
        "    return amortizacion\n",
        "\n",
        "# Ejemplo practico\n",
        "monto = 32000  # Monto del préstamo\n",
        "tasa_anual = 3  # Tasa de interés anual (%)\n",
        "plazo = 48 # Plazo en meses\n",
        "\n",
        "tabla_amortizacion = calcular_amortizacion(monto, tasa_anual, plazo)\n",
        "\n",
        "# Imprimir la tabla de amortización\n",
        "print(\"Mes\\tCuota\\tCapital\\tInterés\\tSaldo Pendiente\")\n",
        "for mes, cuota, capital, interes, saldo in tabla_amortizacion:\n",
        "    print(f\"{mes}\\t{cuota:.2f}\\t{capital:.2f}\\t{interes:.2f}\\t{saldo:.2f}\")\n"
      ],
      "metadata": {
        "colab": {
          "base_uri": "https://localhost:8080/"
        },
        "id": "v6iv9CiTNwJd",
        "outputId": "1e39073c-94c9-4d51-82d0-c8268a6a0ae8"
      },
      "execution_count": null,
      "outputs": [
        {
          "output_type": "stream",
          "name": "stdout",
          "text": [
            "Mes\tCuota\tCapital\tInterés\tSaldo Pendiente\n",
            "1\t708.30\t628.30\t80.00\t31371.70\n",
            "2\t708.30\t629.87\t78.43\t30741.83\n",
            "3\t708.30\t631.44\t76.85\t30110.39\n",
            "4\t708.30\t633.02\t75.28\t29477.37\n",
            "5\t708.30\t634.61\t73.69\t28842.76\n",
            "6\t708.30\t636.19\t72.11\t28206.57\n",
            "7\t708.30\t637.78\t70.52\t27568.79\n",
            "8\t708.30\t639.38\t68.92\t26929.41\n",
            "9\t708.30\t640.97\t67.32\t26288.44\n",
            "10\t708.30\t642.58\t65.72\t25645.86\n",
            "11\t708.30\t644.18\t64.11\t25001.67\n",
            "12\t708.30\t645.79\t62.50\t24355.88\n",
            "13\t708.30\t647.41\t60.89\t23708.47\n",
            "14\t708.30\t649.03\t59.27\t23059.44\n",
            "15\t708.30\t650.65\t57.65\t22408.79\n",
            "16\t708.30\t652.28\t56.02\t21756.52\n",
            "17\t708.30\t653.91\t54.39\t21102.61\n",
            "18\t708.30\t655.54\t52.76\t20447.07\n",
            "19\t708.30\t657.18\t51.12\t19789.89\n",
            "20\t708.30\t658.82\t49.47\t19131.06\n",
            "21\t708.30\t660.47\t47.83\t18470.59\n",
            "22\t708.30\t662.12\t46.18\t17808.47\n",
            "23\t708.30\t663.78\t44.52\t17144.69\n",
            "24\t708.30\t665.44\t42.86\t16479.26\n",
            "25\t708.30\t667.10\t41.20\t15812.16\n",
            "26\t708.30\t668.77\t39.53\t15143.39\n",
            "27\t708.30\t670.44\t37.86\t14472.95\n",
            "28\t708.30\t672.12\t36.18\t13800.83\n",
            "29\t708.30\t673.80\t34.50\t13127.04\n",
            "30\t708.30\t675.48\t32.82\t12451.56\n",
            "31\t708.30\t677.17\t31.13\t11774.39\n",
            "32\t708.30\t678.86\t29.44\t11095.52\n",
            "33\t708.30\t680.56\t27.74\t10414.96\n",
            "34\t708.30\t682.26\t26.04\t9732.70\n",
            "35\t708.30\t683.97\t24.33\t9048.74\n",
            "36\t708.30\t685.68\t22.62\t8363.06\n",
            "37\t708.30\t687.39\t20.91\t7675.67\n",
            "38\t708.30\t689.11\t19.19\t6986.56\n",
            "39\t708.30\t690.83\t17.47\t6295.73\n",
            "40\t708.30\t692.56\t15.74\t5603.17\n",
            "41\t708.30\t694.29\t14.01\t4908.88\n",
            "42\t708.30\t696.03\t12.27\t4212.85\n",
            "43\t708.30\t697.77\t10.53\t3515.09\n",
            "44\t708.30\t699.51\t8.79\t2815.57\n",
            "45\t708.30\t701.26\t7.04\t2114.32\n",
            "46\t708.30\t703.01\t5.29\t1411.30\n",
            "47\t708.30\t704.77\t3.53\t706.53\n",
            "48\t708.30\t706.53\t1.77\t-0.00\n"
          ]
        }
      ]
    },
    {
      "cell_type": "code",
      "source": [
        "#Escribe un programa que determine si un número dado es un número perfecto o no.\n",
        "\n",
        "def es_numero_perfecto(numero):\n",
        "    if numero <= 0:\n",
        "        return False\n",
        "\n",
        "    suma_divisores = 0\n",
        "    for i in range(1, numero):\n",
        "        if numero % i == 0:\n",
        "            suma_divisores += i\n",
        "\n",
        "    return suma_divisores == numero\n",
        "\n",
        "# Solicitar al usuario ingresar un número\n",
        "numero = int(input(\"Ingrese un número para verificar si es un número perfecto: \"))\n",
        "\n",
        "# Determinar si el número es perfecto\n",
        "if es_numero_perfecto(numero):\n",
        "    print(numero, \"es un número perfecto.\")\n",
        "else:\n",
        "    print(numero, \"no es un número perfecto.\")\n",
        "\n"
      ],
      "metadata": {
        "colab": {
          "base_uri": "https://localhost:8080/"
        },
        "id": "5oIQee18OeTh",
        "outputId": "38b42891-7c1d-4f27-ba79-8fdbba775935"
      },
      "execution_count": null,
      "outputs": [
        {
          "output_type": "stream",
          "name": "stdout",
          "text": [
            "Ingrese un número para verificar si es un número perfecto: 23\n",
            "23 no es un número perfecto.\n"
          ]
        }
      ]
    },
    {
      "cell_type": "code",
      "source": [
        "#Define un diccionario que almacene las tasas de interés para diferentes tipos de préstamos. Pide al usuario que ingrese un tipo de préstamo y muestra la tasa de interés correspondiente.\n",
        "\n",
        "def mostrar_tasa_interes(tasas, tipo_prestamo):\n",
        "    if tipo_prestamo in tasas:\n",
        "        tasa = tasas[tipo_prestamo]\n",
        "        print(f\"La tasa de interés para el préstamo '{tipo_prestamo}' es: {tasa}%\")\n",
        "    else:\n",
        "        print(\"El tipo de préstamo ingresado no está en la lista.\")\n",
        "\n",
        "# Definir el diccionario de tasas de interés\n",
        "tasas_interes = {\n",
        "    'libre_inversion': 5,\n",
        "    'rotativo': 2.3,\n",
        "    'libranza': 8.5,\n",
        "    'educativo': 3.0\n",
        "}\n",
        "\n",
        "# Solicitar al usuario ingresar un tipo de préstamo\n",
        "tipo_prestamo_ingresado = input(\"Ingrese el tipo de préstamo: \").lower()\n",
        "\n",
        "# Mostrar la tasa de interés correspondiente\n",
        "mostrar_tasa_interes(tasas_interes, tipo_prestamo_ingresado)"
      ],
      "metadata": {
        "colab": {
          "base_uri": "https://localhost:8080/"
        },
        "id": "S2I_wUJAQbMo",
        "outputId": "28b83817-3d87-47d2-820f-14fa6307847f"
      },
      "execution_count": null,
      "outputs": [
        {
          "output_type": "stream",
          "name": "stdout",
          "text": [
            "Ingrese el tipo de préstamo: educativo\n",
            "La tasa de interés para el préstamo 'educativo' es: 3.0%\n"
          ]
        }
      ]
    },
    {
      "cell_type": "code",
      "source": [
        "#Escribe una función calcular_media_geometrica que calcule la media geométrica de una lista de números.\n",
        "\n",
        "from math import prod\n",
        "\n",
        "def calcular_media_geometrica(lista):\n",
        "    if not lista:\n",
        "        return 0\n",
        "\n",
        "    producto = prod(lista)\n",
        "    media_geometrica = producto ** (1 / len(lista))\n",
        "    return media_geometrica\n",
        "\n",
        "# Ejemplo practico\n",
        "numeros = [1, 2, 3, 4, 5, 6, 7, 7, 9, 10]\n",
        "media_geom = calcular_media_geometrica(numeros)\n",
        "\n",
        "if media_geom is not None:\n",
        "    print(f\"La media geométrica de la lista es: {media_geom:.2f}\")\n",
        "else:\n",
        "    print(\"La lista está vacía.\")"
      ],
      "metadata": {
        "colab": {
          "base_uri": "https://localhost:8080/"
        },
        "id": "SBdkZ2urRhk4",
        "outputId": "723f7444-5950-42bc-de9d-59c6f26de27e"
      },
      "execution_count": null,
      "outputs": [
        {
          "output_type": "stream",
          "name": "stdout",
          "text": [
            "La media geométrica de la lista es: 4.47\n"
          ]
        }
      ]
    },
    {
      "cell_type": "code",
      "source": [
        "#Crea una lista de números y utiliza una función para encontrar el segundo número más grande.\n",
        "\n",
        "def encontrar_segundo_mas_grande(lista):\n",
        "    if len(lista) < 2:\n",
        "        return 0\n",
        "\n",
        "    maximo = float('-inf')\n",
        "    segundo_maximo = float('-inf')\n",
        "\n",
        "    for numero in lista:\n",
        "        if numero > maximo:\n",
        "            segundo_maximo = maximo\n",
        "            maximo = numero\n",
        "        elif numero > segundo_maximo and numero != maximo:\n",
        "            segundo_maximo = numero\n",
        "\n",
        "    return segundo_maximo\n",
        "\n",
        "# Lista de números\n",
        "lista_numeros = [2, 4, 6, 8 , 10, 12, 14, 16, 18, 20, 22, 24, 26]\n",
        "\n",
        "# Encontrar el segundo número más grande\n",
        "segundo_maximo = encontrar_segundo_mas_grande(lista_numeros)\n",
        "\n",
        "if segundo_maximo is not None:\n",
        "    print(f\"El segundo número más grande es: {segundo_maximo}\")\n",
        "else:\n",
        "    print(\"No se puede encontrar el segundo número más grande en la lista.\")"
      ],
      "metadata": {
        "colab": {
          "base_uri": "https://localhost:8080/"
        },
        "id": "4JPFRBsYSu7Z",
        "outputId": "f50093bc-6cec-4360-ba72-0bcdd1ce03a3"
      },
      "execution_count": null,
      "outputs": [
        {
          "output_type": "stream",
          "name": "stdout",
          "text": [
            "El segundo número más grande es: 24\n"
          ]
        }
      ]
    },
    {
      "cell_type": "code",
      "source": [
        "#Escribe un programa que calcule e imprima los primeros n números de la serie de los números de Lucas a discresión del usuario.\n",
        "\n",
        "def numeros_lucas(n):\n",
        "    lucas = [5, 1]  # Los dos primeros números de Lucas\n",
        "    for i in range(5, n):\n",
        "        siguiente_lucas = lucas[i - 1] + lucas[i - 5]\n",
        "        lucas.append(siguiente_lucas)\n",
        "    return lucas\n",
        "\n",
        "# Solicitar al usuario el valor de n\n",
        "n = int(input(\"Ingrese la cantidad de números de la serie de Lucas a generar: \"))\n",
        "\n",
        "# Generar la serie de Lucas\n",
        "serie_lucas = numeros_lucas(n)\n",
        "\n",
        "# Imprimir la serie de Lucas generada\n",
        "print(\"Serie de Lucas con\", n, \"números:\")\n",
        "print(serie_lucas)"
      ],
      "metadata": {
        "colab": {
          "base_uri": "https://localhost:8080/"
        },
        "id": "REgY8jK3TPAm",
        "outputId": "ad02baec-cc74-418b-9944-2e4c4e2b6596"
      },
      "execution_count": null,
      "outputs": [
        {
          "output_type": "stream",
          "name": "stdout",
          "text": [
            "Ingrese la cantidad de números de la serie de Lucas a generar: 4\n",
            "Serie de Lucas con 4 números:\n",
            "[5, 1]\n"
          ]
        }
      ]
    },
    {
      "cell_type": "code",
      "source": [
        "#Crea una función calcular_cuota_mensual que calcule la cuota mensual de un préstamo hipotecario.\n",
        "\n",
        "def calcular_cuota_mensual(monto_prestamo, tasa_interes_anual, plazo_anios):\n",
        "    tasa_interes_mensual = tasa_interes_anual / 12 / 100\n",
        "    numero_cuotas = plazo_anios * 12\n",
        "\n",
        "    cuota_mensual = (monto_prestamo * tasa_interes_mensual) / (1 - (1 + tasa_interes_mensual)**-numero_cuotas)\n",
        "\n",
        "    return cuota_mensual\n",
        "\n",
        "# Solicitar al usuario ingresar los datos del préstamo\n",
        "monto = float(input(\"Ingrese el monto del préstamo: \"))\n",
        "tasa = float(input(\"Ingrese la tasa de interés anual (%): \"))\n",
        "plazo = int(input(\"Ingrese el plazo del préstamo en años: \"))\n",
        "\n",
        "# Calcular la cuota mensual\n",
        "cuota_mensual = calcular_cuota_mensual(monto, tasa, plazo)\n",
        "\n",
        "# Imprimir la cuota mensual\n",
        "print(f\"La cuota mensual del préstamo es: {cuota_mensual:.2f}\")"
      ],
      "metadata": {
        "colab": {
          "base_uri": "https://localhost:8080/"
        },
        "id": "uQ3yvfEQUgB2",
        "outputId": "c7a51995-317e-44e8-96bc-63f07add83d6"
      },
      "execution_count": null,
      "outputs": [
        {
          "output_type": "stream",
          "name": "stdout",
          "text": [
            "Ingrese el monto del préstamo: 6300000\n",
            "Ingrese la tasa de interés anual (%): 23\n",
            "Ingrese el plazo del préstamo en años: 5\n",
            "La cuota mensual del préstamo es: 177599.97\n"
          ]
        }
      ]
    },
    {
      "cell_type": "code",
      "source": [
        "#Escribe una función que determine si un número es un número de Armstrong (un número de n dígitos que es igual a la suma de sus dígitos elevados a la n).\n",
        "\n",
        "def es_numero_armstrong(numero):\n",
        "    num_str = str(numero)\n",
        "    n = len(num_str)\n",
        "    suma = sum(int(digito)**n for digito in num_str)\n",
        "    return suma == numero\n",
        "\n",
        "# Ejemplo practico\n",
        "numero = int(input(\"Ingrese un número para verificar si es un número de Armstrong: \"))\n",
        "\n",
        "if es_numero_armstrong(numero):\n",
        "    print(numero, \"es un número de Armstrong.\")\n",
        "else:\n",
        "    print(numero, \"no es un número de Armstrong.\")"
      ],
      "metadata": {
        "colab": {
          "base_uri": "https://localhost:8080/"
        },
        "id": "AOOO5HmJU-Nb",
        "outputId": "de7103a8-20b6-43f2-be07-4aacd4f176f6"
      },
      "execution_count": null,
      "outputs": [
        {
          "output_type": "stream",
          "name": "stdout",
          "text": [
            "Ingrese un número para verificar si es un número de Armstrong: 9\n",
            "9 es un número de Armstrong.\n"
          ]
        }
      ]
    },
    {
      "cell_type": "code",
      "source": [
        "#Define un diccionario que almacene los símbolos de moneda y sus respectivos códigos. Escribe un programa que convierta una cantidad de dinero de una moneda a otra.\n",
        "\n",
        "def convertir_moneda(cantidad, moneda_origen, moneda_destino, tasas_cambio):\n",
        "    if moneda_origen in tasas_cambio and moneda_destino in tasas_cambio:\n",
        "        tasa_origen = tasas_cambio[moneda_origen]\n",
        "        tasa_destino = tasas_cambio[moneda_destino]\n",
        "        cantidad_convertida = cantidad * (tasa_destino / tasa_origen)\n",
        "        return cantidad_convertida\n",
        "    else:\n",
        "        return 0\n",
        "\n",
        "# Diccionario de tasas de cambio\n",
        "tasas_cambio = {\n",
        "    'USD': 6.0,\n",
        "    'EUR': 5.40,\n",
        "    'CHF': 3.70,\n",
        "    'CAD': 8.3\n",
        "}\n",
        "\n",
        "# Solicitar al usuario ingresar los datos de conversión\n",
        "cantidad = float(input(\"Ingrese la cantidad de dinero: \"))\n",
        "moneda_origen = input(\"Ingrese la moneda de origen (ejemplo: USD, EUR, CHF, CAD): \").upper()\n",
        "moneda_destino = input(\"Ingrese la moneda de destino (ejemplo: USD, EUR, GHF, CAD): \").upper()\n",
        "\n",
        "# Realizar la conversión de moneda\n",
        "cantidad_convertida = convertir_moneda(cantidad, moneda_origen, moneda_destino, tasas_cambio)\n",
        "\n",
        "if cantidad_convertida is not None:\n",
        "    print(f\"{cantidad:.2f} {moneda_origen} equivale a {cantidad_convertida:.2f} {moneda_destino}\")\n",
        "else:\n",
        "    print(\"Las monedas ingresadas no están en la lista de tasas de cambio.\")"
      ],
      "metadata": {
        "colab": {
          "base_uri": "https://localhost:8080/"
        },
        "id": "ERagFNieVsM_",
        "outputId": "d001154b-998f-4fcf-c71b-92a76f5b1d6a"
      },
      "execution_count": null,
      "outputs": [
        {
          "output_type": "stream",
          "name": "stdout",
          "text": [
            "Ingrese la cantidad de dinero: 5000\n",
            "Ingrese la moneda de origen (ejemplo: USD, EUR, CHF, CAD): cad\n",
            "Ingrese la moneda de destino (ejemplo: USD, EUR, GHF, CAD): usd\n",
            "5000.00 CAD equivale a 3614.46 USD\n"
          ]
        }
      ]
    },
    {
      "cell_type": "code",
      "source": [
        "#Crea una función que calcule la desviación estándar de una lista de números.\n",
        "\n",
        "import math\n",
        "\n",
        "def calcular_desviacion_estandar(lista):\n",
        "    n = len(lista)\n",
        "    if n <= 1:\n",
        "        return None  # No se puede calcular la desviación estándar con menos de 2 números\n",
        "\n",
        "    media = sum(lista) / n\n",
        "    suma_cuadrados = sum((x - media) ** 2 for x in lista)\n",
        "    desviacion_estandar = math.sqrt(suma_cuadrados / (n - 1))\n",
        "\n",
        "    return desviacion_estandar\n",
        "\n",
        "# Ejemplo de uso\n",
        "numeros = [1, 2, 3, 4, 5, 6, 7, 8, 9, 10]\n",
        "desviacion = calcular_desviacion_estandar(numeros)\n",
        "\n",
        "if desviacion is not None:\n",
        "    print(f\"La desviación estándar es: {desviacion:.2f}\")\n",
        "else:\n",
        "    print(\"No se puede calcular la desviación estándar con la lista proporcionada.\")"
      ],
      "metadata": {
        "id": "vm27nuZpXA_i",
        "colab": {
          "base_uri": "https://localhost:8080/"
        },
        "outputId": "8e6cbe51-a4f9-4728-d14f-ef52b6d36e0c"
      },
      "execution_count": 31,
      "outputs": [
        {
          "output_type": "stream",
          "name": "stdout",
          "text": [
            "La desviación estándar es: 15.81\n"
          ]
        }
      ]
    }
  ]
}